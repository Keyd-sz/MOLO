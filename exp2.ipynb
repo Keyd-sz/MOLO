{
 "cells": [
  {
   "cell_type": "code",
   "execution_count": 1,
   "id": "initial_id",
   "metadata": {
    "collapsed": true,
    "ExecuteTime": {
     "end_time": "2024-11-01T15:47:37.356533700Z",
     "start_time": "2024-11-01T15:47:35.590024100Z"
    }
   },
   "outputs": [],
   "source": [
    "import jieba\n",
    "import re\n",
    "import numpy as np\n",
    "from sklearn.feature_extraction.text import TfidfVectorizer\n",
    "from sklearn.model_selection import train_test_split\n",
    "\n",
    "def clean_symbols(text):\n",
    "    text = re.sub('[!！]+', \"!\", text)\n",
    "    text = re.sub('[？?]+', \"?\", text)\n",
    "    text = re.sub(\"[a-zA-Z#$%&\\'()*+,-./:;：<=>@，。*、…【】《》\\\"\\'[\\\\]^_`{|}~]+\", \" 00V \", text)\n",
    "    return re.sub(\"\\s+\", \" \", text).strip()\n",
    "\n",
    "# 读取训练集评论\n",
    "with open('../DB/train_positive.txt', 'r', encoding='utf-8') as f:\n",
    "    train_positive = f.read().splitlines()\n",
    "with open('../DB/train_negative.txt', 'r', encoding='utf-8') as f:\n",
    "    train_negative = f.read().splitlines()\n",
    "\n",
    "# 读取测试集评论\n",
    "with open('../DB/test_combined.txt', 'r', encoding='utf-8') as f:\n",
    "    test_comments = f.read().splitlines()\n",
    "\n",
    "# 读取停用词\n",
    "stopword_pth = \"../DB/stopwords.txt\"\n",
    "with open(stopword_pth, 'r', encoding='utf-8') as f:\n",
    "    stopword = f.read().splitlines()\n"
   ]
  },
  {
   "cell_type": "code",
   "execution_count": 2,
   "outputs": [
    {
     "name": "stderr",
     "output_type": "stream",
     "text": [
      "Building prefix dict from the default dictionary ...\n",
      "Loading model from cache C:\\Users\\Kaidi\\AppData\\Local\\Temp\\jieba.cache\n",
      "Loading model cost 0.683 seconds.\n",
      "Prefix dict has been built successfully.\n"
     ]
    }
   ],
   "source": [
    "train_comments = train_positive + train_negative\n",
    "train_comment_cleaned = []\n",
    "\n",
    "for train_comment in train_comments:\n",
    "    # 1. 调用 clean_symbols 处理 train_comment 的特殊符号\n",
    "    train_comment = clean_symbols(train_comment)\n",
    "    # 2. 调用 re.sub 将 train_comment 数字换成特殊符号 ' NUM '\n",
    "    train_comment = re.sub('[1234567890]+', ' NUM ', train_comment)\n",
    "    # 3. jieba.cut 对 train_comment 进行分词\n",
    "    cut_train = jieba.cut(train_comment)\n",
    "    # 4. 去除停用词\n",
    "    seg_train = [word for word in cut_train if word not in stopword]\n",
    "    # 5. 重新组合成字符串\n",
    "    train_comment_cleaned.append(\" \".join(seg_train))"
   ],
   "metadata": {
    "collapsed": false,
    "ExecuteTime": {
     "end_time": "2024-11-01T15:47:50.007753600Z",
     "start_time": "2024-11-01T15:47:37.358533900Z"
    }
   },
   "id": "c94bfaed2d868a40"
  },
  {
   "cell_type": "code",
   "execution_count": 3,
   "outputs": [],
   "source": [
    "test_comment_cleaned = []\n",
    "y_test = []\n",
    "for line in test_comments:\n",
    "    line = line.strip()\n",
    "    # 检查是否是包含 label 的行\n",
    "    if line.startswith('<review'):\n",
    "        # print(\"Get it: \"+line)\n",
    "        # 提取标签信息\n",
    "        label_match = re.search(r'label=\"(\\d)\"', line)\n",
    "        if label_match:\n",
    "            label = int(label_match.group(1))\n",
    "            y_test.append(label)\n",
    "            # print(\"Get label: \"+str(label))\n",
    "    elif line and 'review' not in line:\n",
    "        # 处理评论内容\n",
    "        test_comment = line\n",
    "        test_comment = clean_symbols(test_comment)\n",
    "        test_comment = re.sub('[1234567890]+', ' NUM ', test_comment)\n",
    "        cut_test = jieba.cut(test_comment)\n",
    "        seg_test = [word for word in cut_test if word not in stopword]\n",
    "        # 将清洗后的评论文本加入到 test_comment_cleaned 列表中\n",
    "        test_comment_cleaned.append(\" \".join(seg_test))"
   ],
   "metadata": {
    "collapsed": false,
    "ExecuteTime": {
     "end_time": "2024-11-01T15:47:52.989140800Z",
     "start_time": "2024-11-01T15:47:50.004739300Z"
    }
   },
   "id": "d7dda88f5533718c"
  },
  {
   "cell_type": "code",
   "execution_count": 4,
   "outputs": [
    {
     "name": "stdout",
     "output_type": "stream",
     "text": [
      "  NUM   V     NUM   V     NUM       NUM   V\n",
      "\n",
      "请问 这机 不是 有个 遥控器\n",
      "\n",
      "  NUM   V\n",
      "-----------------------------\n",
      "终于 找到 同道中人 初中     NUM   V   已经 喜欢 上     NUM   V   同学 都 鄙夷 眼光 看     NUM   V   人为     NUM   V   样子 古怪 说 ＂ 丑 ＂ 当场 气晕 现在 同道中人     NUM   V   好开心 !     NUM   V   !     NUM   V\n",
      "看 完 已 深夜 两点     NUM   V   却 坐在 电脑前 情难 自禁     NUM   V   这是 最好 结局     NUM   V   惟有     NUM   V   就让 前世 今生 纠结 停留 此刻     NUM   V   再 相逢 时     NUM   V   愿 人生 不再 人 唏嘘     NUM   V   身心 会 只 居 一处     NUM   V   痛心 人     NUM   V   爱     NUM   V\n",
      "袁阔成 先生 当今 评书 界 泰斗     NUM   V   十二 金钱 镖 代表作\n",
      "确实 非常 不错     NUM   V   物有所值\n",
      "基本上 说 诈骗\n"
     ]
    }
   ],
   "source": [
    "# 打印前5条处理后的评论\n",
    "for i in range(0, 5):\n",
    "    print(train_comment_cleaned[i])\n",
    "print(\"-----------------------------\")\n",
    "for i in range(0, 5):\n",
    "    print(test_comment_cleaned[i])"
   ],
   "metadata": {
    "collapsed": false,
    "ExecuteTime": {
     "end_time": "2024-11-01T15:47:53.002145200Z",
     "start_time": "2024-11-01T15:47:52.984629700Z"
    }
   },
   "id": "fd5358408703fe9f"
  },
  {
   "cell_type": "code",
   "execution_count": 5,
   "outputs": [
    {
     "name": "stdout",
     "output_type": "stream",
     "text": [
      "X_train shape: (54093, 23100)\n",
      "y_train shape: 54093\n",
      "X_test shape: (2500, 23100)\n",
      "y_test shape: 2500\n"
     ]
    }
   ],
   "source": [
    "# 准备标签\n",
    "y_train = [1] * len(train_positive) + [0] * len(train_negative)\n",
    "\n",
    "# 特征提取\n",
    "vectorizer = TfidfVectorizer()\n",
    "X_train = vectorizer.fit_transform(train_comment_cleaned)\n",
    "X_test = vectorizer.transform(test_comment_cleaned)\n",
    "\n",
    "\n",
    "# 打印特征矩阵和标签的形状\n",
    "print(\"X_train shape:\", X_train.shape)\n",
    "print(\"y_train shape:\", len(y_train))\n",
    "print(\"X_test shape:\", X_test.shape)\n",
    "print(\"y_test shape:\", len(y_test))\n",
    "# print(X_test)\n",
    "# print(y_test)\n"
   ],
   "metadata": {
    "collapsed": false,
    "ExecuteTime": {
     "end_time": "2024-11-01T15:47:53.386654500Z",
     "start_time": "2024-11-01T15:47:52.996145400Z"
    }
   },
   "id": "48fc5594428da9fb"
  },
  {
   "cell_type": "code",
   "execution_count": 6,
   "outputs": [
    {
     "name": "stdout",
     "output_type": "stream",
     "text": [
      "Report of LogisticRegression\n",
      "              precision    recall  f1-score   support\n",
      "\n",
      "           0       0.86      0.52      0.65      1250\n",
      "           1       0.66      0.92      0.77      1250\n",
      "\n",
      "    accuracy                           0.72      2500\n",
      "   macro avg       0.76      0.72      0.71      2500\n",
      "weighted avg       0.76      0.72      0.71      2500\n"
     ]
    }
   ],
   "source": [
    "# 1\n",
    "from sklearn.linear_model import LogisticRegression\n",
    "from sklearn.model_selection import GridSearchCV\n",
    "from sklearn.metrics import classification_report\n",
    "import warnings\n",
    "warnings.filterwarnings('ignore')\n",
    "\n",
    "para_c = np.logspace(-5, 2, 15)\n",
    "model = GridSearchCV(estimator= LogisticRegression(penalty='l2'), param_grid={'C':para_c}, scoring='f1', cv=10)\n",
    "model.fit(X_train, y_train)\n",
    "prediction = model.predict(X_test)\n",
    "print(\"Report of LogisticRegression\")\n",
    "print(classification_report(y_test, prediction))"
   ],
   "metadata": {
    "collapsed": false,
    "ExecuteTime": {
     "end_time": "2024-11-01T15:48:30.262834300Z",
     "start_time": "2024-11-01T15:47:53.383601Z"
    }
   },
   "id": "96cd4ae5b4dea913"
  },
  {
   "cell_type": "code",
   "execution_count": 7,
   "outputs": [
    {
     "name": "stdout",
     "output_type": "stream",
     "text": [
      "Report of NaiveBayes\n",
      "              precision    recall  f1-score   support\n",
      "\n",
      "           0       0.92      0.39      0.54      1250\n",
      "           1       0.61      0.96      0.75      1250\n",
      "\n",
      "    accuracy                           0.68      2500\n",
      "   macro avg       0.76      0.68      0.65      2500\n",
      "weighted avg       0.76      0.68      0.65      2500\n"
     ]
    }
   ],
   "source": [
    "# 2\n",
    "from sklearn.naive_bayes import MultinomialNB\n",
    "params_alpha = [1]\n",
    "model = GridSearchCV(estimator=MultinomialNB(fit_prior=True), param_grid = {'alpha':params_alpha}, scoring='f1', cv=10)\n",
    "model.fit(X_train, y_train)\n",
    "predic = model.predict(X_test)\n",
    "print(\"Report of NaiveBayes\")\n",
    "print(classification_report(y_test, predic))"
   ],
   "metadata": {
    "collapsed": false,
    "ExecuteTime": {
     "end_time": "2024-11-01T15:48:30.419838400Z",
     "start_time": "2024-11-01T15:48:30.262834300Z"
    }
   },
   "id": "ac20e177d1e73598"
  },
  {
   "cell_type": "code",
   "execution_count": 8,
   "outputs": [
    {
     "ename": "KeyboardInterrupt",
     "evalue": "",
     "output_type": "error",
     "traceback": [
      "\u001B[1;31m---------------------------------------------------------------------------\u001B[0m",
      "\u001B[1;31mKeyboardInterrupt\u001B[0m                         Traceback (most recent call last)",
      "Cell \u001B[1;32mIn[8], line 5\u001B[0m\n\u001B[0;32m      3\u001B[0m params \u001B[38;5;241m=\u001B[39m [{\u001B[38;5;124m'\u001B[39m\u001B[38;5;124mkernel\u001B[39m\u001B[38;5;124m'\u001B[39m:[\u001B[38;5;124m'\u001B[39m\u001B[38;5;124mlinear\u001B[39m\u001B[38;5;124m'\u001B[39m], \u001B[38;5;124m'\u001B[39m\u001B[38;5;124mC\u001B[39m\u001B[38;5;124m'\u001B[39m:[\u001B[38;5;241m1\u001B[39m, \u001B[38;5;241m10\u001B[39m]},{\u001B[38;5;124m'\u001B[39m\u001B[38;5;124mkernel\u001B[39m\u001B[38;5;124m'\u001B[39m:[\u001B[38;5;124m'\u001B[39m\u001B[38;5;124mpoly\u001B[39m\u001B[38;5;124m'\u001B[39m], \u001B[38;5;124m'\u001B[39m\u001B[38;5;124mC\u001B[39m\u001B[38;5;124m'\u001B[39m:[\u001B[38;5;241m1\u001B[39m]}, {\u001B[38;5;124m'\u001B[39m\u001B[38;5;124mkernel\u001B[39m\u001B[38;5;124m'\u001B[39m:[\u001B[38;5;124m'\u001B[39m\u001B[38;5;124mrbf\u001B[39m\u001B[38;5;124m'\u001B[39m], \u001B[38;5;124m'\u001B[39m\u001B[38;5;124mC\u001B[39m\u001B[38;5;124m'\u001B[39m:[\u001B[38;5;241m10\u001B[39m], \u001B[38;5;124m'\u001B[39m\u001B[38;5;124mgamma\u001B[39m\u001B[38;5;124m'\u001B[39m:[\u001B[38;5;241m1\u001B[39m, \u001B[38;5;241m0.1\u001B[39m]}]\n\u001B[0;32m      4\u001B[0m model \u001B[38;5;241m=\u001B[39m GridSearchCV(estimator\u001B[38;5;241m=\u001B[39msvm\u001B[38;5;241m.\u001B[39mSVC(), param_grid\u001B[38;5;241m=\u001B[39mparams, scoring\u001B[38;5;241m=\u001B[39m\u001B[38;5;124m'\u001B[39m\u001B[38;5;124mf1\u001B[39m\u001B[38;5;124m'\u001B[39m, cv\u001B[38;5;241m=\u001B[39m\u001B[38;5;241m10\u001B[39m)\n\u001B[1;32m----> 5\u001B[0m model\u001B[38;5;241m.\u001B[39mfit(X_train,y_train)\n\u001B[0;32m      6\u001B[0m prediction \u001B[38;5;241m=\u001B[39m model\u001B[38;5;241m.\u001B[39mpredict(X_test)\n\u001B[0;32m      7\u001B[0m \u001B[38;5;28mprint\u001B[39m(\u001B[38;5;124m\"\u001B[39m\u001B[38;5;124mReport of SVM\u001B[39m\u001B[38;5;124m\"\u001B[39m)\n",
      "File \u001B[1;32mD:\\Software\\Anaconda3\\envs\\dl\\Lib\\site-packages\\sklearn\\base.py:1473\u001B[0m, in \u001B[0;36m_fit_context.<locals>.decorator.<locals>.wrapper\u001B[1;34m(estimator, *args, **kwargs)\u001B[0m\n\u001B[0;32m   1466\u001B[0m     estimator\u001B[38;5;241m.\u001B[39m_validate_params()\n\u001B[0;32m   1468\u001B[0m \u001B[38;5;28;01mwith\u001B[39;00m config_context(\n\u001B[0;32m   1469\u001B[0m     skip_parameter_validation\u001B[38;5;241m=\u001B[39m(\n\u001B[0;32m   1470\u001B[0m         prefer_skip_nested_validation \u001B[38;5;129;01mor\u001B[39;00m global_skip_validation\n\u001B[0;32m   1471\u001B[0m     )\n\u001B[0;32m   1472\u001B[0m ):\n\u001B[1;32m-> 1473\u001B[0m     \u001B[38;5;28;01mreturn\u001B[39;00m fit_method(estimator, \u001B[38;5;241m*\u001B[39margs, \u001B[38;5;241m*\u001B[39m\u001B[38;5;241m*\u001B[39mkwargs)\n",
      "File \u001B[1;32mD:\\Software\\Anaconda3\\envs\\dl\\Lib\\site-packages\\sklearn\\model_selection\\_search.py:1019\u001B[0m, in \u001B[0;36mBaseSearchCV.fit\u001B[1;34m(self, X, y, **params)\u001B[0m\n\u001B[0;32m   1013\u001B[0m     results \u001B[38;5;241m=\u001B[39m \u001B[38;5;28mself\u001B[39m\u001B[38;5;241m.\u001B[39m_format_results(\n\u001B[0;32m   1014\u001B[0m         all_candidate_params, n_splits, all_out, all_more_results\n\u001B[0;32m   1015\u001B[0m     )\n\u001B[0;32m   1017\u001B[0m     \u001B[38;5;28;01mreturn\u001B[39;00m results\n\u001B[1;32m-> 1019\u001B[0m \u001B[38;5;28mself\u001B[39m\u001B[38;5;241m.\u001B[39m_run_search(evaluate_candidates)\n\u001B[0;32m   1021\u001B[0m \u001B[38;5;66;03m# multimetric is determined here because in the case of a callable\u001B[39;00m\n\u001B[0;32m   1022\u001B[0m \u001B[38;5;66;03m# self.scoring the return type is only known after calling\u001B[39;00m\n\u001B[0;32m   1023\u001B[0m first_test_score \u001B[38;5;241m=\u001B[39m all_out[\u001B[38;5;241m0\u001B[39m][\u001B[38;5;124m\"\u001B[39m\u001B[38;5;124mtest_scores\u001B[39m\u001B[38;5;124m\"\u001B[39m]\n",
      "File \u001B[1;32mD:\\Software\\Anaconda3\\envs\\dl\\Lib\\site-packages\\sklearn\\model_selection\\_search.py:1573\u001B[0m, in \u001B[0;36mGridSearchCV._run_search\u001B[1;34m(self, evaluate_candidates)\u001B[0m\n\u001B[0;32m   1571\u001B[0m \u001B[38;5;28;01mdef\u001B[39;00m \u001B[38;5;21m_run_search\u001B[39m(\u001B[38;5;28mself\u001B[39m, evaluate_candidates):\n\u001B[0;32m   1572\u001B[0m \u001B[38;5;250m    \u001B[39m\u001B[38;5;124;03m\"\"\"Search all candidates in param_grid\"\"\"\u001B[39;00m\n\u001B[1;32m-> 1573\u001B[0m     evaluate_candidates(ParameterGrid(\u001B[38;5;28mself\u001B[39m\u001B[38;5;241m.\u001B[39mparam_grid))\n",
      "File \u001B[1;32mD:\\Software\\Anaconda3\\envs\\dl\\Lib\\site-packages\\sklearn\\model_selection\\_search.py:965\u001B[0m, in \u001B[0;36mBaseSearchCV.fit.<locals>.evaluate_candidates\u001B[1;34m(candidate_params, cv, more_results)\u001B[0m\n\u001B[0;32m    957\u001B[0m \u001B[38;5;28;01mif\u001B[39;00m \u001B[38;5;28mself\u001B[39m\u001B[38;5;241m.\u001B[39mverbose \u001B[38;5;241m>\u001B[39m \u001B[38;5;241m0\u001B[39m:\n\u001B[0;32m    958\u001B[0m     \u001B[38;5;28mprint\u001B[39m(\n\u001B[0;32m    959\u001B[0m         \u001B[38;5;124m\"\u001B[39m\u001B[38;5;124mFitting \u001B[39m\u001B[38;5;132;01m{0}\u001B[39;00m\u001B[38;5;124m folds for each of \u001B[39m\u001B[38;5;132;01m{1}\u001B[39;00m\u001B[38;5;124m candidates,\u001B[39m\u001B[38;5;124m\"\u001B[39m\n\u001B[0;32m    960\u001B[0m         \u001B[38;5;124m\"\u001B[39m\u001B[38;5;124m totalling \u001B[39m\u001B[38;5;132;01m{2}\u001B[39;00m\u001B[38;5;124m fits\u001B[39m\u001B[38;5;124m\"\u001B[39m\u001B[38;5;241m.\u001B[39mformat(\n\u001B[0;32m    961\u001B[0m             n_splits, n_candidates, n_candidates \u001B[38;5;241m*\u001B[39m n_splits\n\u001B[0;32m    962\u001B[0m         )\n\u001B[0;32m    963\u001B[0m     )\n\u001B[1;32m--> 965\u001B[0m out \u001B[38;5;241m=\u001B[39m parallel(\n\u001B[0;32m    966\u001B[0m     delayed(_fit_and_score)(\n\u001B[0;32m    967\u001B[0m         clone(base_estimator),\n\u001B[0;32m    968\u001B[0m         X,\n\u001B[0;32m    969\u001B[0m         y,\n\u001B[0;32m    970\u001B[0m         train\u001B[38;5;241m=\u001B[39mtrain,\n\u001B[0;32m    971\u001B[0m         test\u001B[38;5;241m=\u001B[39mtest,\n\u001B[0;32m    972\u001B[0m         parameters\u001B[38;5;241m=\u001B[39mparameters,\n\u001B[0;32m    973\u001B[0m         split_progress\u001B[38;5;241m=\u001B[39m(split_idx, n_splits),\n\u001B[0;32m    974\u001B[0m         candidate_progress\u001B[38;5;241m=\u001B[39m(cand_idx, n_candidates),\n\u001B[0;32m    975\u001B[0m         \u001B[38;5;241m*\u001B[39m\u001B[38;5;241m*\u001B[39mfit_and_score_kwargs,\n\u001B[0;32m    976\u001B[0m     )\n\u001B[0;32m    977\u001B[0m     \u001B[38;5;28;01mfor\u001B[39;00m (cand_idx, parameters), (split_idx, (train, test)) \u001B[38;5;129;01min\u001B[39;00m product(\n\u001B[0;32m    978\u001B[0m         \u001B[38;5;28menumerate\u001B[39m(candidate_params),\n\u001B[0;32m    979\u001B[0m         \u001B[38;5;28menumerate\u001B[39m(cv\u001B[38;5;241m.\u001B[39msplit(X, y, \u001B[38;5;241m*\u001B[39m\u001B[38;5;241m*\u001B[39mrouted_params\u001B[38;5;241m.\u001B[39msplitter\u001B[38;5;241m.\u001B[39msplit)),\n\u001B[0;32m    980\u001B[0m     )\n\u001B[0;32m    981\u001B[0m )\n\u001B[0;32m    983\u001B[0m \u001B[38;5;28;01mif\u001B[39;00m \u001B[38;5;28mlen\u001B[39m(out) \u001B[38;5;241m<\u001B[39m \u001B[38;5;241m1\u001B[39m:\n\u001B[0;32m    984\u001B[0m     \u001B[38;5;28;01mraise\u001B[39;00m \u001B[38;5;167;01mValueError\u001B[39;00m(\n\u001B[0;32m    985\u001B[0m         \u001B[38;5;124m\"\u001B[39m\u001B[38;5;124mNo fits were performed. \u001B[39m\u001B[38;5;124m\"\u001B[39m\n\u001B[0;32m    986\u001B[0m         \u001B[38;5;124m\"\u001B[39m\u001B[38;5;124mWas the CV iterator empty? \u001B[39m\u001B[38;5;124m\"\u001B[39m\n\u001B[0;32m    987\u001B[0m         \u001B[38;5;124m\"\u001B[39m\u001B[38;5;124mWere there no candidates?\u001B[39m\u001B[38;5;124m\"\u001B[39m\n\u001B[0;32m    988\u001B[0m     )\n",
      "File \u001B[1;32mD:\\Software\\Anaconda3\\envs\\dl\\Lib\\site-packages\\sklearn\\utils\\parallel.py:74\u001B[0m, in \u001B[0;36mParallel.__call__\u001B[1;34m(self, iterable)\u001B[0m\n\u001B[0;32m     69\u001B[0m config \u001B[38;5;241m=\u001B[39m get_config()\n\u001B[0;32m     70\u001B[0m iterable_with_config \u001B[38;5;241m=\u001B[39m (\n\u001B[0;32m     71\u001B[0m     (_with_config(delayed_func, config), args, kwargs)\n\u001B[0;32m     72\u001B[0m     \u001B[38;5;28;01mfor\u001B[39;00m delayed_func, args, kwargs \u001B[38;5;129;01min\u001B[39;00m iterable\n\u001B[0;32m     73\u001B[0m )\n\u001B[1;32m---> 74\u001B[0m \u001B[38;5;28;01mreturn\u001B[39;00m \u001B[38;5;28msuper\u001B[39m()\u001B[38;5;241m.\u001B[39m\u001B[38;5;21m__call__\u001B[39m(iterable_with_config)\n",
      "File \u001B[1;32mD:\\Software\\Anaconda3\\envs\\dl\\Lib\\site-packages\\joblib\\parallel.py:1918\u001B[0m, in \u001B[0;36mParallel.__call__\u001B[1;34m(self, iterable)\u001B[0m\n\u001B[0;32m   1916\u001B[0m     output \u001B[38;5;241m=\u001B[39m \u001B[38;5;28mself\u001B[39m\u001B[38;5;241m.\u001B[39m_get_sequential_output(iterable)\n\u001B[0;32m   1917\u001B[0m     \u001B[38;5;28mnext\u001B[39m(output)\n\u001B[1;32m-> 1918\u001B[0m     \u001B[38;5;28;01mreturn\u001B[39;00m output \u001B[38;5;28;01mif\u001B[39;00m \u001B[38;5;28mself\u001B[39m\u001B[38;5;241m.\u001B[39mreturn_generator \u001B[38;5;28;01melse\u001B[39;00m \u001B[38;5;28mlist\u001B[39m(output)\n\u001B[0;32m   1920\u001B[0m \u001B[38;5;66;03m# Let's create an ID that uniquely identifies the current call. If the\u001B[39;00m\n\u001B[0;32m   1921\u001B[0m \u001B[38;5;66;03m# call is interrupted early and that the same instance is immediately\u001B[39;00m\n\u001B[0;32m   1922\u001B[0m \u001B[38;5;66;03m# re-used, this id will be used to prevent workers that were\u001B[39;00m\n\u001B[0;32m   1923\u001B[0m \u001B[38;5;66;03m# concurrently finalizing a task from the previous call to run the\u001B[39;00m\n\u001B[0;32m   1924\u001B[0m \u001B[38;5;66;03m# callback.\u001B[39;00m\n\u001B[0;32m   1925\u001B[0m \u001B[38;5;28;01mwith\u001B[39;00m \u001B[38;5;28mself\u001B[39m\u001B[38;5;241m.\u001B[39m_lock:\n",
      "File \u001B[1;32mD:\\Software\\Anaconda3\\envs\\dl\\Lib\\site-packages\\joblib\\parallel.py:1847\u001B[0m, in \u001B[0;36mParallel._get_sequential_output\u001B[1;34m(self, iterable)\u001B[0m\n\u001B[0;32m   1845\u001B[0m \u001B[38;5;28mself\u001B[39m\u001B[38;5;241m.\u001B[39mn_dispatched_batches \u001B[38;5;241m+\u001B[39m\u001B[38;5;241m=\u001B[39m \u001B[38;5;241m1\u001B[39m\n\u001B[0;32m   1846\u001B[0m \u001B[38;5;28mself\u001B[39m\u001B[38;5;241m.\u001B[39mn_dispatched_tasks \u001B[38;5;241m+\u001B[39m\u001B[38;5;241m=\u001B[39m \u001B[38;5;241m1\u001B[39m\n\u001B[1;32m-> 1847\u001B[0m res \u001B[38;5;241m=\u001B[39m func(\u001B[38;5;241m*\u001B[39margs, \u001B[38;5;241m*\u001B[39m\u001B[38;5;241m*\u001B[39mkwargs)\n\u001B[0;32m   1848\u001B[0m \u001B[38;5;28mself\u001B[39m\u001B[38;5;241m.\u001B[39mn_completed_tasks \u001B[38;5;241m+\u001B[39m\u001B[38;5;241m=\u001B[39m \u001B[38;5;241m1\u001B[39m\n\u001B[0;32m   1849\u001B[0m \u001B[38;5;28mself\u001B[39m\u001B[38;5;241m.\u001B[39mprint_progress()\n",
      "File \u001B[1;32mD:\\Software\\Anaconda3\\envs\\dl\\Lib\\site-packages\\sklearn\\utils\\parallel.py:136\u001B[0m, in \u001B[0;36m_FuncWrapper.__call__\u001B[1;34m(self, *args, **kwargs)\u001B[0m\n\u001B[0;32m    134\u001B[0m     config \u001B[38;5;241m=\u001B[39m {}\n\u001B[0;32m    135\u001B[0m \u001B[38;5;28;01mwith\u001B[39;00m config_context(\u001B[38;5;241m*\u001B[39m\u001B[38;5;241m*\u001B[39mconfig):\n\u001B[1;32m--> 136\u001B[0m     \u001B[38;5;28;01mreturn\u001B[39;00m \u001B[38;5;28mself\u001B[39m\u001B[38;5;241m.\u001B[39mfunction(\u001B[38;5;241m*\u001B[39margs, \u001B[38;5;241m*\u001B[39m\u001B[38;5;241m*\u001B[39mkwargs)\n",
      "File \u001B[1;32mD:\\Software\\Anaconda3\\envs\\dl\\Lib\\site-packages\\sklearn\\model_selection\\_validation.py:888\u001B[0m, in \u001B[0;36m_fit_and_score\u001B[1;34m(estimator, X, y, scorer, train, test, verbose, parameters, fit_params, score_params, return_train_score, return_parameters, return_n_test_samples, return_times, return_estimator, split_progress, candidate_progress, error_score)\u001B[0m\n\u001B[0;32m    886\u001B[0m         estimator\u001B[38;5;241m.\u001B[39mfit(X_train, \u001B[38;5;241m*\u001B[39m\u001B[38;5;241m*\u001B[39mfit_params)\n\u001B[0;32m    887\u001B[0m     \u001B[38;5;28;01melse\u001B[39;00m:\n\u001B[1;32m--> 888\u001B[0m         estimator\u001B[38;5;241m.\u001B[39mfit(X_train, y_train, \u001B[38;5;241m*\u001B[39m\u001B[38;5;241m*\u001B[39mfit_params)\n\u001B[0;32m    890\u001B[0m \u001B[38;5;28;01mexcept\u001B[39;00m \u001B[38;5;167;01mException\u001B[39;00m:\n\u001B[0;32m    891\u001B[0m     \u001B[38;5;66;03m# Note fit time as time until error\u001B[39;00m\n\u001B[0;32m    892\u001B[0m     fit_time \u001B[38;5;241m=\u001B[39m time\u001B[38;5;241m.\u001B[39mtime() \u001B[38;5;241m-\u001B[39m start_time\n",
      "File \u001B[1;32mD:\\Software\\Anaconda3\\envs\\dl\\Lib\\site-packages\\sklearn\\base.py:1473\u001B[0m, in \u001B[0;36m_fit_context.<locals>.decorator.<locals>.wrapper\u001B[1;34m(estimator, *args, **kwargs)\u001B[0m\n\u001B[0;32m   1466\u001B[0m     estimator\u001B[38;5;241m.\u001B[39m_validate_params()\n\u001B[0;32m   1468\u001B[0m \u001B[38;5;28;01mwith\u001B[39;00m config_context(\n\u001B[0;32m   1469\u001B[0m     skip_parameter_validation\u001B[38;5;241m=\u001B[39m(\n\u001B[0;32m   1470\u001B[0m         prefer_skip_nested_validation \u001B[38;5;129;01mor\u001B[39;00m global_skip_validation\n\u001B[0;32m   1471\u001B[0m     )\n\u001B[0;32m   1472\u001B[0m ):\n\u001B[1;32m-> 1473\u001B[0m     \u001B[38;5;28;01mreturn\u001B[39;00m fit_method(estimator, \u001B[38;5;241m*\u001B[39margs, \u001B[38;5;241m*\u001B[39m\u001B[38;5;241m*\u001B[39mkwargs)\n",
      "File \u001B[1;32mD:\\Software\\Anaconda3\\envs\\dl\\Lib\\site-packages\\sklearn\\svm\\_base.py:250\u001B[0m, in \u001B[0;36mBaseLibSVM.fit\u001B[1;34m(self, X, y, sample_weight)\u001B[0m\n\u001B[0;32m    247\u001B[0m     \u001B[38;5;28mprint\u001B[39m(\u001B[38;5;124m\"\u001B[39m\u001B[38;5;124m[LibSVM]\u001B[39m\u001B[38;5;124m\"\u001B[39m, end\u001B[38;5;241m=\u001B[39m\u001B[38;5;124m\"\u001B[39m\u001B[38;5;124m\"\u001B[39m)\n\u001B[0;32m    249\u001B[0m seed \u001B[38;5;241m=\u001B[39m rnd\u001B[38;5;241m.\u001B[39mrandint(np\u001B[38;5;241m.\u001B[39miinfo(\u001B[38;5;124m\"\u001B[39m\u001B[38;5;124mi\u001B[39m\u001B[38;5;124m\"\u001B[39m)\u001B[38;5;241m.\u001B[39mmax)\n\u001B[1;32m--> 250\u001B[0m fit(X, y, sample_weight, solver_type, kernel, random_seed\u001B[38;5;241m=\u001B[39mseed)\n\u001B[0;32m    251\u001B[0m \u001B[38;5;66;03m# see comment on the other call to np.iinfo in this file\u001B[39;00m\n\u001B[0;32m    253\u001B[0m \u001B[38;5;28mself\u001B[39m\u001B[38;5;241m.\u001B[39mshape_fit_ \u001B[38;5;241m=\u001B[39m X\u001B[38;5;241m.\u001B[39mshape \u001B[38;5;28;01mif\u001B[39;00m \u001B[38;5;28mhasattr\u001B[39m(X, \u001B[38;5;124m\"\u001B[39m\u001B[38;5;124mshape\u001B[39m\u001B[38;5;124m\"\u001B[39m) \u001B[38;5;28;01melse\u001B[39;00m (n_samples,)\n",
      "File \u001B[1;32mD:\\Software\\Anaconda3\\envs\\dl\\Lib\\site-packages\\sklearn\\svm\\_base.py:369\u001B[0m, in \u001B[0;36mBaseLibSVM._sparse_fit\u001B[1;34m(self, X, y, sample_weight, solver_type, kernel, random_seed)\u001B[0m\n\u001B[0;32m    355\u001B[0m kernel_type \u001B[38;5;241m=\u001B[39m \u001B[38;5;28mself\u001B[39m\u001B[38;5;241m.\u001B[39m_sparse_kernels\u001B[38;5;241m.\u001B[39mindex(kernel)\n\u001B[0;32m    357\u001B[0m libsvm_sparse\u001B[38;5;241m.\u001B[39mset_verbosity_wrap(\u001B[38;5;28mself\u001B[39m\u001B[38;5;241m.\u001B[39mverbose)\n\u001B[0;32m    359\u001B[0m (\n\u001B[0;32m    360\u001B[0m     \u001B[38;5;28mself\u001B[39m\u001B[38;5;241m.\u001B[39msupport_,\n\u001B[0;32m    361\u001B[0m     \u001B[38;5;28mself\u001B[39m\u001B[38;5;241m.\u001B[39msupport_vectors_,\n\u001B[0;32m    362\u001B[0m     dual_coef_data,\n\u001B[0;32m    363\u001B[0m     \u001B[38;5;28mself\u001B[39m\u001B[38;5;241m.\u001B[39mintercept_,\n\u001B[0;32m    364\u001B[0m     \u001B[38;5;28mself\u001B[39m\u001B[38;5;241m.\u001B[39m_n_support,\n\u001B[0;32m    365\u001B[0m     \u001B[38;5;28mself\u001B[39m\u001B[38;5;241m.\u001B[39m_probA,\n\u001B[0;32m    366\u001B[0m     \u001B[38;5;28mself\u001B[39m\u001B[38;5;241m.\u001B[39m_probB,\n\u001B[0;32m    367\u001B[0m     \u001B[38;5;28mself\u001B[39m\u001B[38;5;241m.\u001B[39mfit_status_,\n\u001B[0;32m    368\u001B[0m     \u001B[38;5;28mself\u001B[39m\u001B[38;5;241m.\u001B[39m_num_iter,\n\u001B[1;32m--> 369\u001B[0m ) \u001B[38;5;241m=\u001B[39m libsvm_sparse\u001B[38;5;241m.\u001B[39mlibsvm_sparse_train(\n\u001B[0;32m    370\u001B[0m     X\u001B[38;5;241m.\u001B[39mshape[\u001B[38;5;241m1\u001B[39m],\n\u001B[0;32m    371\u001B[0m     X\u001B[38;5;241m.\u001B[39mdata,\n\u001B[0;32m    372\u001B[0m     X\u001B[38;5;241m.\u001B[39mindices,\n\u001B[0;32m    373\u001B[0m     X\u001B[38;5;241m.\u001B[39mindptr,\n\u001B[0;32m    374\u001B[0m     y,\n\u001B[0;32m    375\u001B[0m     solver_type,\n\u001B[0;32m    376\u001B[0m     kernel_type,\n\u001B[0;32m    377\u001B[0m     \u001B[38;5;28mself\u001B[39m\u001B[38;5;241m.\u001B[39mdegree,\n\u001B[0;32m    378\u001B[0m     \u001B[38;5;28mself\u001B[39m\u001B[38;5;241m.\u001B[39m_gamma,\n\u001B[0;32m    379\u001B[0m     \u001B[38;5;28mself\u001B[39m\u001B[38;5;241m.\u001B[39mcoef0,\n\u001B[0;32m    380\u001B[0m     \u001B[38;5;28mself\u001B[39m\u001B[38;5;241m.\u001B[39mtol,\n\u001B[0;32m    381\u001B[0m     \u001B[38;5;28mself\u001B[39m\u001B[38;5;241m.\u001B[39mC,\n\u001B[0;32m    382\u001B[0m     \u001B[38;5;28mgetattr\u001B[39m(\u001B[38;5;28mself\u001B[39m, \u001B[38;5;124m\"\u001B[39m\u001B[38;5;124mclass_weight_\u001B[39m\u001B[38;5;124m\"\u001B[39m, np\u001B[38;5;241m.\u001B[39mempty(\u001B[38;5;241m0\u001B[39m)),\n\u001B[0;32m    383\u001B[0m     sample_weight,\n\u001B[0;32m    384\u001B[0m     \u001B[38;5;28mself\u001B[39m\u001B[38;5;241m.\u001B[39mnu,\n\u001B[0;32m    385\u001B[0m     \u001B[38;5;28mself\u001B[39m\u001B[38;5;241m.\u001B[39mcache_size,\n\u001B[0;32m    386\u001B[0m     \u001B[38;5;28mself\u001B[39m\u001B[38;5;241m.\u001B[39mepsilon,\n\u001B[0;32m    387\u001B[0m     \u001B[38;5;28mint\u001B[39m(\u001B[38;5;28mself\u001B[39m\u001B[38;5;241m.\u001B[39mshrinking),\n\u001B[0;32m    388\u001B[0m     \u001B[38;5;28mint\u001B[39m(\u001B[38;5;28mself\u001B[39m\u001B[38;5;241m.\u001B[39mprobability),\n\u001B[0;32m    389\u001B[0m     \u001B[38;5;28mself\u001B[39m\u001B[38;5;241m.\u001B[39mmax_iter,\n\u001B[0;32m    390\u001B[0m     random_seed,\n\u001B[0;32m    391\u001B[0m )\n\u001B[0;32m    393\u001B[0m \u001B[38;5;28mself\u001B[39m\u001B[38;5;241m.\u001B[39m_warn_from_fit_status()\n\u001B[0;32m    395\u001B[0m \u001B[38;5;28;01mif\u001B[39;00m \u001B[38;5;28mhasattr\u001B[39m(\u001B[38;5;28mself\u001B[39m, \u001B[38;5;124m\"\u001B[39m\u001B[38;5;124mclasses_\u001B[39m\u001B[38;5;124m\"\u001B[39m):\n",
      "File \u001B[1;32m_libsvm_sparse.pyx:218\u001B[0m, in \u001B[0;36msklearn.svm._libsvm_sparse.libsvm_sparse_train\u001B[1;34m()\u001B[0m\n",
      "File \u001B[1;32mD:\\Software\\Anaconda3\\envs\\dl\\Lib\\site-packages\\scipy\\sparse\\_compressed.py:27\u001B[0m, in \u001B[0;36m_cs_matrix.__init__\u001B[1;34m(self, arg1, shape, dtype, copy)\u001B[0m\n\u001B[0;32m     22\u001B[0m \u001B[38;5;28;01mclass\u001B[39;00m \u001B[38;5;21;01m_cs_matrix\u001B[39;00m(_data_matrix, _minmax_mixin, IndexMixin):\n\u001B[0;32m     23\u001B[0m \u001B[38;5;250m    \u001B[39m\u001B[38;5;124;03m\"\"\"\u001B[39;00m\n\u001B[0;32m     24\u001B[0m \u001B[38;5;124;03m    base array/matrix class for compressed row- and column-oriented arrays/matrices\u001B[39;00m\n\u001B[0;32m     25\u001B[0m \u001B[38;5;124;03m    \"\"\"\u001B[39;00m\n\u001B[1;32m---> 27\u001B[0m     \u001B[38;5;28;01mdef\u001B[39;00m \u001B[38;5;21m__init__\u001B[39m(\u001B[38;5;28mself\u001B[39m, arg1, shape\u001B[38;5;241m=\u001B[39m\u001B[38;5;28;01mNone\u001B[39;00m, dtype\u001B[38;5;241m=\u001B[39m\u001B[38;5;28;01mNone\u001B[39;00m, copy\u001B[38;5;241m=\u001B[39m\u001B[38;5;28;01mFalse\u001B[39;00m):\n\u001B[0;32m     28\u001B[0m         _data_matrix\u001B[38;5;241m.\u001B[39m\u001B[38;5;21m__init__\u001B[39m(\u001B[38;5;28mself\u001B[39m, arg1)\n\u001B[0;32m     29\u001B[0m         is_array \u001B[38;5;241m=\u001B[39m \u001B[38;5;28misinstance\u001B[39m(\u001B[38;5;28mself\u001B[39m, sparray)\n",
      "\u001B[1;31mKeyboardInterrupt\u001B[0m: "
     ]
    }
   ],
   "source": [
    "# 3\n",
    "from sklearn import svm\n",
    "params = [{'kernel':['linear'], 'C':[1, 10]},{'kernel':['poly'], 'C':[1]}, {'kernel':['rbf'], 'C':[10], 'gamma':[1, 0.1]}]\n",
    "model = GridSearchCV(estimator=svm.SVC(), param_grid=params, scoring='f1', cv=5)\n",
    "model.fit(X_train,y_train)\n",
    "prediction = model.predict(X_test)\n",
    "print(\"Report of SVM\")\n",
    "print(classification_report(y_test, prediction))"
   ],
   "metadata": {
    "collapsed": false,
    "ExecuteTime": {
     "end_time": "2024-11-01T16:10:48.126450800Z",
     "start_time": "2024-11-01T15:48:30.420838400Z"
    }
   },
   "id": "9d90d6efa78a57e1"
  }
 ],
 "metadata": {
  "kernelspec": {
   "display_name": "Python 3",
   "language": "python",
   "name": "python3"
  },
  "language_info": {
   "codemirror_mode": {
    "name": "ipython",
    "version": 2
   },
   "file_extension": ".py",
   "mimetype": "text/x-python",
   "name": "python",
   "nbconvert_exporter": "python",
   "pygments_lexer": "ipython2",
   "version": "2.7.6"
  }
 },
 "nbformat": 4,
 "nbformat_minor": 5
}
